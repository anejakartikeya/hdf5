{
 "cells": [
  {
   "cell_type": "code",
   "execution_count": 1,
   "metadata": {},
   "outputs": [],
   "source": [
    "import h5py\n",
    "import numpy as np"
   ]
  },
  {
   "cell_type": "markdown",
   "metadata": {},
   "source": [
    "# Writing"
   ]
  },
  {
   "cell_type": "code",
   "execution_count": 2,
   "metadata": {},
   "outputs": [],
   "source": [
    "hf = h5py.File(\"data.h5\", \"w\")\n",
    "d1 = np.random.random(size=(1000, 20))\n",
    "hf.create_dataset(\"dataset_1\", data=d1)\n",
    "hf.close()"
   ]
  },
  {
   "cell_type": "markdown",
   "metadata": {},
   "source": [
    "# Reading"
   ]
  },
  {
   "cell_type": "code",
   "execution_count": 3,
   "metadata": {},
   "outputs": [
    {
     "name": "stdout",
     "output_type": "stream",
     "text": [
      "(1000, 20)\n"
     ]
    }
   ],
   "source": [
    "hf = h5py.File(\"data.h5\", \"r\")\n",
    "hf.keys()\n",
    "n1 = hf.get(\"dataset_1\")\n",
    "print(n1.shape)\n",
    "hf.close()"
   ]
  },
  {
   "cell_type": "markdown",
   "metadata": {},
   "source": [
    "# Writing Groups"
   ]
  },
  {
   "cell_type": "code",
   "execution_count": 4,
   "metadata": {},
   "outputs": [],
   "source": [
    "d1 = np.random.random(size=(1000, 20))\n",
    "d2 = np.random.random(size=(100, 200))\n",
    "d3 = np.random.random(size=(100, 2000))\n",
    "\n",
    "hf = h5py.File(\"data.h5\", \"w\")\n",
    "g1 = hf.create_group(\"group1\")\n",
    "g1.create_dataset(\"data1\", data=d1, compression=\"gzip\", compression_opts=9)\n",
    "g1.create_dataset(\"data2\", data=d2)\n",
    "g2 = hf.create_group(\"group2/subfolder\")\n",
    "g2.create_dataset(\"data3\", data=d3, compression=\"gzip\", compression_opts=1)\n",
    "hf.close()"
   ]
  },
  {
   "cell_type": "markdown",
   "metadata": {},
   "source": [
    "# Reading Groups"
   ]
  },
  {
   "cell_type": "code",
   "execution_count": 5,
   "metadata": {},
   "outputs": [
    {
     "name": "stdout",
     "output_type": "stream",
     "text": [
      "<KeysViewHDF5 ['group1', 'group2']>\n",
      "<KeysViewHDF5 ['data3']>\n",
      "(100, 2000)\n"
     ]
    }
   ],
   "source": [
    "hf = h5py.File(\"data.h5\", \"r\")\n",
    "print(hf.keys())\n",
    "g2 = hf.get(\"group2/subfolder\")\n",
    "print(g2.keys())\n",
    "n1 = g2.get(\"data3\")\n",
    "print(n1.shape)\n",
    "hf.close()"
   ]
  },
  {
   "cell_type": "code",
   "execution_count": null,
   "metadata": {},
   "outputs": [],
   "source": []
  }
 ],
 "metadata": {
  "kernelspec": {
   "display_name": "Python 3",
   "language": "python",
   "name": "python3"
  },
  "language_info": {
   "codemirror_mode": {
    "name": "ipython",
    "version": 3
   },
   "file_extension": ".py",
   "mimetype": "text/x-python",
   "name": "python",
   "nbconvert_exporter": "python",
   "pygments_lexer": "ipython3",
   "version": "3.8.5"
  }
 },
 "nbformat": 4,
 "nbformat_minor": 4
}
